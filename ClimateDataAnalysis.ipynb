{
 "cells": [
  {
   "cell_type": "markdown",
   "metadata": {},
   "source": [
    "# Data Analysis and Feature class creation for the Data from climtedata.ca.\n",
    "Using Pandas, Matplotlib and ArcPy.\n",
    "\n",
    "- Anand Charvin G"
   ]
  },
  {
   "cell_type": "code",
   "execution_count": 2,
   "metadata": {},
   "outputs": [
    {
     "data": {
      "text/html": [
       "<div>\n",
       "<style scoped>\n",
       "    .dataframe tbody tr th:only-of-type {\n",
       "        vertical-align: middle;\n",
       "    }\n",
       "\n",
       "    .dataframe tbody tr th {\n",
       "        vertical-align: top;\n",
       "    }\n",
       "\n",
       "    .dataframe thead th {\n",
       "        text-align: right;\n",
       "    }\n",
       "</style>\n",
       "<table border=\"1\" class=\"dataframe\">\n",
       "  <thead>\n",
       "    <tr style=\"text-align: right;\">\n",
       "      <th></th>\n",
       "      <th>time</th>\n",
       "      <th>lat</th>\n",
       "      <th>lon</th>\n",
       "      <th>ssp126_tx_mean_p10</th>\n",
       "      <th>ssp126_tx_mean_p50</th>\n",
       "      <th>ssp126_tx_mean_p90</th>\n",
       "      <th>ssp245_tx_mean_p10</th>\n",
       "      <th>ssp245_tx_mean_p50</th>\n",
       "      <th>ssp245_tx_mean_p90</th>\n",
       "      <th>ssp585_tx_mean_p10</th>\n",
       "      <th>ssp585_tx_mean_p50</th>\n",
       "      <th>ssp585_tx_mean_p90</th>\n",
       "    </tr>\n",
       "  </thead>\n",
       "  <tbody>\n",
       "    <tr>\n",
       "      <th>0</th>\n",
       "      <td>1950-01-01</td>\n",
       "      <td>44.041667</td>\n",
       "      <td>-79.125002</td>\n",
       "      <td>10.17</td>\n",
       "      <td>11.29</td>\n",
       "      <td>12.05</td>\n",
       "      <td>10.17</td>\n",
       "      <td>11.29</td>\n",
       "      <td>12.05</td>\n",
       "      <td>10.17</td>\n",
       "      <td>11.29</td>\n",
       "      <td>12.05</td>\n",
       "    </tr>\n",
       "    <tr>\n",
       "      <th>1</th>\n",
       "      <td>1951-01-01</td>\n",
       "      <td>44.041667</td>\n",
       "      <td>-79.125002</td>\n",
       "      <td>9.94</td>\n",
       "      <td>11.31</td>\n",
       "      <td>12.47</td>\n",
       "      <td>9.94</td>\n",
       "      <td>11.31</td>\n",
       "      <td>12.47</td>\n",
       "      <td>9.94</td>\n",
       "      <td>11.31</td>\n",
       "      <td>12.47</td>\n",
       "    </tr>\n",
       "    <tr>\n",
       "      <th>2</th>\n",
       "      <td>1952-01-01</td>\n",
       "      <td>44.041667</td>\n",
       "      <td>-79.125002</td>\n",
       "      <td>10.18</td>\n",
       "      <td>11.19</td>\n",
       "      <td>11.88</td>\n",
       "      <td>10.18</td>\n",
       "      <td>11.19</td>\n",
       "      <td>11.88</td>\n",
       "      <td>10.18</td>\n",
       "      <td>11.19</td>\n",
       "      <td>11.88</td>\n",
       "    </tr>\n",
       "    <tr>\n",
       "      <th>3</th>\n",
       "      <td>1953-01-01</td>\n",
       "      <td>44.041667</td>\n",
       "      <td>-79.125002</td>\n",
       "      <td>9.97</td>\n",
       "      <td>10.86</td>\n",
       "      <td>12.45</td>\n",
       "      <td>9.97</td>\n",
       "      <td>10.86</td>\n",
       "      <td>12.45</td>\n",
       "      <td>9.97</td>\n",
       "      <td>10.86</td>\n",
       "      <td>12.45</td>\n",
       "    </tr>\n",
       "    <tr>\n",
       "      <th>4</th>\n",
       "      <td>1954-01-01</td>\n",
       "      <td>44.041667</td>\n",
       "      <td>-79.125002</td>\n",
       "      <td>10.02</td>\n",
       "      <td>10.76</td>\n",
       "      <td>11.76</td>\n",
       "      <td>10.02</td>\n",
       "      <td>10.76</td>\n",
       "      <td>11.76</td>\n",
       "      <td>10.02</td>\n",
       "      <td>10.76</td>\n",
       "      <td>11.76</td>\n",
       "    </tr>\n",
       "  </tbody>\n",
       "</table>\n",
       "</div>"
      ],
      "text/plain": [
       "         time        lat        lon  ssp126_tx_mean_p10  ssp126_tx_mean_p50  \\\n",
       "0  1950-01-01  44.041667 -79.125002               10.17               11.29   \n",
       "1  1951-01-01  44.041667 -79.125002                9.94               11.31   \n",
       "2  1952-01-01  44.041667 -79.125002               10.18               11.19   \n",
       "3  1953-01-01  44.041667 -79.125002                9.97               10.86   \n",
       "4  1954-01-01  44.041667 -79.125002               10.02               10.76   \n",
       "\n",
       "   ssp126_tx_mean_p90  ssp245_tx_mean_p10  ssp245_tx_mean_p50  \\\n",
       "0               12.05               10.17               11.29   \n",
       "1               12.47                9.94               11.31   \n",
       "2               11.88               10.18               11.19   \n",
       "3               12.45                9.97               10.86   \n",
       "4               11.76               10.02               10.76   \n",
       "\n",
       "   ssp245_tx_mean_p90  ssp585_tx_mean_p10  ssp585_tx_mean_p50  \\\n",
       "0               12.05               10.17               11.29   \n",
       "1               12.47                9.94               11.31   \n",
       "2               11.88               10.18               11.19   \n",
       "3               12.45                9.97               10.86   \n",
       "4               11.76               10.02               10.76   \n",
       "\n",
       "   ssp585_tx_mean_p90  \n",
       "0               12.05  \n",
       "1               12.47  \n",
       "2               11.88  \n",
       "3               12.45  \n",
       "4               11.76  "
      ]
     },
     "execution_count": 2,
     "metadata": {},
     "output_type": "execute_result"
    }
   ],
   "source": [
    "# Importing pandas to do some clean up and data analysis processes. Will do things one step at a time.\n",
    "import pandas as pd\n",
    "\n",
    "# Import the required file for the analysis and all future activities.\n",
    "# I'm taking the tx_mean.csv file which represents Annual mean of daily maximum temperature.\n",
    "\n",
    "txmdf = pd.read_csv(r\"C:\\Users\\tx_mean\\tx_mean.csv\")\n",
    "\n",
    "txmdf.head()\n"
   ]
  },
  {
   "cell_type": "code",
   "execution_count": 4,
   "metadata": {},
   "outputs": [
    {
     "data": {
      "text/plain": [
       "Index(['time', 'lat', 'lon', 'ssp126_tx_mean_p10', 'ssp126_tx_mean_p50',\n",
       "       'ssp126_tx_mean_p90', 'ssp245_tx_mean_p10', 'ssp245_tx_mean_p50',\n",
       "       'ssp245_tx_mean_p90', 'ssp585_tx_mean_p10', 'ssp585_tx_mean_p50',\n",
       "       'ssp585_tx_mean_p90'],\n",
       "      dtype='object')"
      ]
     },
     "execution_count": 4,
     "metadata": {},
     "output_type": "execute_result"
    }
   ],
   "source": [
    "# Column Names which will give us an idea about which one to use,\n",
    "# More details about what each of them represents is included in the metadata file which comes with the dataset.\n",
    "\n",
    "txmdf.columns"
   ]
  },
  {
   "cell_type": "code",
   "execution_count": 5,
   "metadata": {},
   "outputs": [
    {
     "name": "stdout",
     "output_type": "stream",
     "text": [
      "[(1950, 2000), (2011, 2040), (2041, 2070), (2071, 2100)]\n"
     ]
    }
   ],
   "source": [
    "# Time colum conversion to extract the year from it. Will help with data consistency\n",
    "# Convert the 'time' column to datetime\n",
    "txmdf['time'] = pd.to_datetime(txmdf['time'])\n",
    "\n",
    "# Extract the year from the 'time' column\n",
    "txmdf['year'] = txmdf['time'].dt.year\n",
    "\n",
    "# Define the time periods\n",
    "time_periods = [(1950, 2000), (2011, 2040), (2041, 2070), (2071, 2100)]\n",
    "print (time_periods)"
   ]
  },
  {
   "cell_type": "code",
   "execution_count": 6,
   "metadata": {},
   "outputs": [
    {
     "name": "stdout",
     "output_type": "stream",
     "text": [
      "{'1950-2000': 11.193994528043776, '2011-2040': 13.181360465116281, '2041-2070': 14.425635658914729, '2071-2100': 15.318267441860463}\n"
     ]
    }
   ],
   "source": [
    "# Mean value extraction on the yearly window manner.\n",
    "\n",
    "# Initialize an empty dictionary to store the results\n",
    "results = {}\n",
    "\n",
    "# Loop over the time periods\n",
    "for start, end in time_periods:\n",
    "    # Filter the data for the current time period\n",
    "    mask = (txmdf['year'] >= start) & (txmdf['year'] <= end)\n",
    "    filtered_data = txmdf.loc[mask]\n",
    "    \n",
    "    # Calculate the mean of 'ssp245_tg_mean_p50' for the current time period\n",
    "    mean_value = filtered_data['ssp245_tx_mean_p50'].mean()\n",
    "    \n",
    "    # Store the result in the dictionary\n",
    "    results[f'{start}-{end}'] = mean_value\n",
    "\n",
    "print (results)"
   ]
  },
  {
   "cell_type": "code",
   "execution_count": 7,
   "metadata": {},
   "outputs": [
    {
     "name": "stdout",
     "output_type": "stream",
     "text": [
      "  Time Period  Average of Annual mean of daily maximum temperature.\n",
      "0   1950-2000                                          11.193995   \n",
      "1   2011-2040                                          13.181360   \n",
      "2   2041-2070                                          14.425636   \n",
      "3   2071-2100                                          15.318267   \n"
     ]
    }
   ],
   "source": [
    "# Convert the results to a pandas DataFrame for better visualization\n",
    "results_df = pd.DataFrame(list(results.items()), columns=['Time Period', 'Average of Annual mean of daily maximum temperature.'])\n",
    "print (results_df)"
   ]
  },
  {
   "cell_type": "markdown",
   "metadata": {},
   "source": [
    "# Plotting and Feature Class Creation Blocks."
   ]
  },
  {
   "cell_type": "code",
   "execution_count": 8,
   "metadata": {},
   "outputs": [
    {
     "data": {
      "image/png": "[encoded data removed]",
      "text/plain": [
       "<Figure size 1000x600 with 1 Axes>"
      ]
     },
     "metadata": {},
     "output_type": "display_data"
    }
   ],
   "source": [
    "import matplotlib.pyplot as plt\n",
    "\n",
    "# Create a bar plot\n",
    "plt.figure(figsize=(10, 6))\n",
    "plt.bar(results_df['Time Period'], results_df['Average of Annual mean of daily maximum temperature.'], color='skyblue')\n",
    "\n",
    "# Add title and labels\n",
    "plt.title('Average of Annual mean of daily maximum temperature.')\n",
    "plt.xlabel('Time Period')\n",
    "plt.ylabel('Average of Temperature')\n",
    "\n",
    "# Show the plot\n",
    "plt.show()\n"
   ]
  },
  {
   "cell_type": "markdown",
   "metadata": {},
   "source": [
    "# Featuring the Data into Individual location"
   ]
  },
  {
   "cell_type": "code",
   "execution_count": 10,
   "metadata": {},
   "outputs": [
    {
     "name": "stdout",
     "output_type": "stream",
     "text": [
      "                        Lat, Lon, Time Period  \\\n",
      "0    (44.041666545, -79.125002475, 1950-2000)   \n",
      "1    (44.041666545, -79.125002475, 2011-2040)   \n",
      "2    (44.041666545, -79.125002475, 2041-2070)   \n",
      "3    (44.041666545, -79.125002475, 2071-2100)   \n",
      "4    (44.041666545, -79.041669145, 1950-2000)   \n",
      "..                                        ...   \n",
      "339  (44.874999845, -78.458335835, 2071-2100)   \n",
      "340  (44.874999845, -78.375002505, 1950-2000)   \n",
      "341  (44.874999845, -78.375002505, 2011-2040)   \n",
      "342  (44.874999845, -78.375002505, 2041-2070)   \n",
      "343  (44.874999845, -78.375002505, 2071-2100)   \n",
      "\n",
      "     Average of Annual mean of daily maximum temperature.  \n",
      "0                                            11.203725     \n",
      "1                                            13.199667     \n",
      "2                                            14.466333     \n",
      "3                                            15.352000     \n",
      "4                                            11.317059     \n",
      "..                                                 ...     \n",
      "339                                          14.861000     \n",
      "340                                          10.703529     \n",
      "341                                          12.694333     \n",
      "342                                          13.915000     \n",
      "343                                          14.821333     \n",
      "\n",
      "[344 rows x 2 columns]\n"
     ]
    }
   ],
   "source": [
    "# Initialize an empty dictionary to store the results\n",
    "results = {}\n",
    "\n",
    "# Loop over the unique lat, lon pairs in the data\n",
    "for lat, lon in txmdf[['lat', 'lon']].drop_duplicates().values:\n",
    "    # Filter the data for the current lat, lon pair\n",
    "    mask = (txmdf['lat'] == lat) & (txmdf['lon'] == lon)\n",
    "    filtered_data = txmdf.loc[mask]\n",
    "\n",
    "    # Loop over the time periods\n",
    "    for start, end in time_periods:\n",
    "        # Further filter the data for the current time period\n",
    "        mask = (filtered_data['year'] >= start) & (filtered_data['year'] <= end)\n",
    "        period_data = filtered_data.loc[mask]\n",
    "        \n",
    "        # Calculate the mean of 'ssp245_tg_mean_p50' for the current time period and lat, lon pair\n",
    "        mean_value = period_data['ssp245_tx_mean_p50'].mean()\n",
    "        \n",
    "        # Store the result in the dictionary\n",
    "        results[(lat, lon, f'{start}-{end}')] = mean_value\n",
    "\n",
    "# Convert the results to a pandas DataFrame for better visualization\n",
    "results_txmdf = pd.DataFrame(list(results.items()), columns=['Lat, Lon, Time Period', 'Average of Annual mean of daily maximum temperature.'])\n",
    "print(results_txmdf)"
   ]
  },
  {
   "cell_type": "markdown",
   "metadata": {},
   "source": [
    "# Feature Class Creation with Point Data"
   ]
  },
  {
   "cell_type": "code",
   "execution_count": null,
   "metadata": {},
   "outputs": [],
   "source": [
    "import arcpy\n",
    "\n",
    "# Define the spatial reference\n",
    "sr = arcpy.SpatialReference(4326)  # WGS 1984\n",
    "\n",
    "arcpy.env.overwriteOutput = True\n",
    "\n",
    "# Loop over the time periods\n",
    "for start, end in time_periods:\n",
    "    # Define the name of the new feature class\n",
    "    out_fc = f'HotDays30Data_{start}_{end}'\n",
    "\n",
    "    # Create the new feature class\n",
    "    arcpy.management.CreateFeatureclass(arcpy.env.workspace, out_fc, 'POINT', spatial_reference=sr)\n",
    "\n",
    "    # Add fields for the time period and temperature\n",
    "    arcpy.management.AddField(out_fc, 'TimePeriod', 'TEXT')\n",
    "    arcpy.management.AddField(out_fc, 'HotDays', 'FLOAT')\n",
    "    \n",
    "    # Split the 'Lat, Lon, Time Period' column into separate columns\n",
    "    results_txmdf[['Lat', 'Lon', 'Time Period']] = pd.DataFrame(results_txmdf['Lat, Lon, Time Period'].tolist(), index=results_txmdf.index)\n",
    "\n",
    "    # Filter the results for the current time period\n",
    "    mask = results_txmdf['Time Period'] == f'{start}-{end}'\n",
    "    period_data = results_txmdf.loc[mask]\n",
    "\n",
    "    # Insert the data into the new feature class\n",
    "    with arcpy.da.InsertCursor(out_fc, ['SHAPE@XY', 'TimePeriod', 'HotDays']) as cursor:\n",
    "        for row in period_data.itertuples():\n",
    "            lat, lon, time_period = row[1]\n",
    "            temperature = row[2]\n",
    "            cursor.insertRow(((lon, lat), time_period, temperature))\n"
   ]
  },
  {
   "cell_type": "markdown",
   "metadata": {},
   "source": [
    "The ArcPy Section is set such that, it runs within an arcgis notebook, \n",
    "this can be changed or put into an independet script and inputs and output locations can be set and used as such."
   ]
  }
 ],
 "metadata": {
  "kernelspec": {
   "display_name": "Python 3",
   "language": "python",
   "name": "python3"
  },
  "language_info": {
   "codemirror_mode": {
    "name": "ipython",
    "version": 3
   },
   "file_extension": ".py",
   "mimetype": "text/x-python",
   "name": "python",
   "nbconvert_exporter": "python",
   "pygments_lexer": "ipython3",
   "version": "3.9.18"
  }
 },
 "nbformat": 4,
 "nbformat_minor": 2
}
